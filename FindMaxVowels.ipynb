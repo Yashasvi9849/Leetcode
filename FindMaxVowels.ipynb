{
 "cells": [
  {
   "cell_type": "code",
   "execution_count": 9,
   "id": "ff50939b-ed0f-42de-a226-76833944cb06",
   "metadata": {},
   "outputs": [
    {
     "data": {
      "text/plain": [
       "1"
      ]
     },
     "execution_count": 9,
     "metadata": {},
     "output_type": "execute_result"
    }
   ],
   "source": [
    "class solution:\n",
    "    def findMaxVowels(self,s:str,k:int) -> int :\n",
    "        vowels = {'a','e','i','o','u'}\n",
    "        max_vowels = 0 \n",
    "        current_vowels = 0 \n",
    "        for i in range(0,k):\n",
    "            if s[i] in vowels:\n",
    "                current_vowels += 1\n",
    "        max_vowels = current_vowels \n",
    "        for i  in range(k,len(s)):\n",
    "            if s[i-k] in vowels:\n",
    "                current_vowels -= 1\n",
    "            if s[i] in vowels:\n",
    "                current_vowels += 1\n",
    "            if current_vowels > max_vowels :\n",
    "                current_vowels = max_vowels\n",
    "        return max_vowels\n",
    "        \n",
    "sol = solution()\n",
    "sol.findMaxVowels(\"abciiidef\", k = 3)        \n"
   ]
  },
  {
   "cell_type": "code",
   "execution_count": null,
   "id": "8384c5c7-fa12-49a3-af51-b8f17bdd1f27",
   "metadata": {},
   "outputs": [],
   "source": []
  }
 ],
 "metadata": {
  "kernelspec": {
   "display_name": "Python 3 (ipykernel)",
   "language": "python",
   "name": "python3"
  },
  "language_info": {
   "codemirror_mode": {
    "name": "ipython",
    "version": 3
   },
   "file_extension": ".py",
   "mimetype": "text/x-python",
   "name": "python",
   "nbconvert_exporter": "python",
   "pygments_lexer": "ipython3",
   "version": "3.11.7"
  }
 },
 "nbformat": 4,
 "nbformat_minor": 5
}
