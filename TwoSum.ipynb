{
 "cells": [
  {
   "cell_type": "code",
   "execution_count": 49,
   "id": "d8c7bdab-94e1-492c-875e-cdab8fd6756b",
   "metadata": {},
   "outputs": [],
   "source": [
    "class solution:\n",
    "    def twosum(nums:list[int],target):\n",
    "       d = {}\n",
    "         \n",
    "       \n",
    "       for i, num in enumerate(nums):\n",
    "            compliment = target-num\n",
    "            if compliment in d:\n",
    "                return [d[compliment] ,i]\n",
    "            d[num]=i\n",
    "           \n",
    "      \n",
    "            \n",
    "    \n",
    "             \n",
    "   \n",
    "    \n",
    " "
   ]
  },
  {
   "cell_type": "code",
   "execution_count": 50,
   "id": "dece732f-7f74-46e9-8d14-16f1a315e40d",
   "metadata": {},
   "outputs": [
    {
     "name": "stdout",
     "output_type": "stream",
     "text": [
      "[0, 1]\n"
     ]
    }
   ],
   "source": [
    "a = solution.twosum(nums=[2,7,11,15],target=9)\n",
    "print(a)"
   ]
  },
  {
   "cell_type": "code",
   "execution_count": null,
   "id": "233d3751-2c40-4732-941e-4f854deeade0",
   "metadata": {},
   "outputs": [],
   "source": []
  }
 ],
 "metadata": {
  "kernelspec": {
   "display_name": "Python 3 (ipykernel)",
   "language": "python",
   "name": "python3"
  },
  "language_info": {
   "codemirror_mode": {
    "name": "ipython",
    "version": 3
   },
   "file_extension": ".py",
   "mimetype": "text/x-python",
   "name": "python",
   "nbconvert_exporter": "python",
   "pygments_lexer": "ipython3",
   "version": "3.11.7"
  }
 },
 "nbformat": 4,
 "nbformat_minor": 5
}
