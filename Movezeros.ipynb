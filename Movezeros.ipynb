{
 "cells": [
  {
   "cell_type": "code",
   "execution_count": null,
   "id": "af556966-2cd5-470f-9385-3f1fe4a7f789",
   "metadata": {},
   "outputs": [
    {
     "name": "stdout",
     "output_type": "stream",
     "text": [
      "[1, 3, 12, 0, 0]\n"
     ]
    }
   ],
   "source": [
    "class Solution:\n",
    "    def movezeros(self,nums:list[int]) -> None:\n",
    "        left = 0 # initializing the left and right pointer to 0\n",
    "        right = 0 \n",
    "        for right in range(len(nums)): # traversing the right pointer till the end of the list\n",
    "            if nums[right] != 0 : # if value at right pointer is not 0 , then swap the left and right values and increment the pointer\n",
    "               nums[left] , nums[right] = nums[right] , nums[left]\n",
    "               left += 1\n",
    "            \n",
    "sol = Solution()\n",
    "nums = [0, 1, 0, 3, 12]\n",
    "sol.movezeros(nums)\n",
    "\n",
    "print(nums)\n",
    "\n",
    "\n",
    "\n"
   ]
  },
  {
   "cell_type": "code",
   "execution_count": null,
   "id": "ecce3ce6-0f96-4f61-ab5c-1a84ad86aa55",
   "metadata": {},
   "outputs": [],
   "source": []
  }
 ],
 "metadata": {
  "kernelspec": {
   "display_name": "Python 3 (ipykernel)",
   "language": "python",
   "name": "python3"
  },
  "language_info": {
   "codemirror_mode": {
    "name": "ipython",
    "version": 3
   },
   "file_extension": ".py",
   "mimetype": "text/x-python",
   "name": "python",
   "nbconvert_exporter": "python",
   "pygments_lexer": "ipython3",
   "version": "3.11.7"
  }
 },
 "nbformat": 4,
 "nbformat_minor": 5
}
