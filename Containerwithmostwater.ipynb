{
 "cells": [
  {
   "cell_type": "code",
   "execution_count": 1,
   "id": "bd0950cb-9e31-4b7b-8d84-3b64c9007b0b",
   "metadata": {},
   "outputs": [],
   "source": [
    "class solution:\n",
    "    def containerwithmostwater(self,height:list[int]):\n",
    "        i = 0 \n",
    "        j = len(height) - 1\n",
    "        max_area = 0 \n",
    "        while i < j :\n",
    "            area = min(height[i],height[j]) * (j - i)\n",
    "            max_area = max(max_area , area)\n",
    "            if height[i] < height[j]:\n",
    "                i += 1\n",
    "            j -= 1 \n",
    "        return max_area\n",
    "            \n",
    "sol = solution()\n",
    "\n",
    "        \n",
    "        \n",
    "    "
   ]
  },
  {
   "cell_type": "code",
   "execution_count": null,
   "id": "935864fb-f43b-4b9e-9af0-d50756570b69",
   "metadata": {},
   "outputs": [],
   "source": []
  }
 ],
 "metadata": {
  "kernelspec": {
   "display_name": "Python 3 (ipykernel)",
   "language": "python",
   "name": "python3"
  },
  "language_info": {
   "codemirror_mode": {
    "name": "ipython",
    "version": 3
   },
   "file_extension": ".py",
   "mimetype": "text/x-python",
   "name": "python",
   "nbconvert_exporter": "python",
   "pygments_lexer": "ipython3",
   "version": "3.11.7"
  }
 },
 "nbformat": 4,
 "nbformat_minor": 5
}
