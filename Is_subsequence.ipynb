{
 "cells": [
  {
   "cell_type": "code",
   "execution_count": 8,
   "id": "af326efd-582e-4fe1-9f32-b3e95ac13a92",
   "metadata": {},
   "outputs": [
    {
     "data": {
      "text/plain": [
       "True"
      ]
     },
     "execution_count": 8,
     "metadata": {},
     "output_type": "execute_result"
    }
   ],
   "source": [
    "class solution:\n",
    "    def Is_subsequence(self, s : str,t:str)-> bool:\n",
    "        i = 0 \n",
    "        j = 0 \n",
    "        while i <= len(s) and j <= len(t):\n",
    "            if s[i] == t[j] :\n",
    "                i += 1\n",
    "            j += 1\n",
    "        return i == len(s)\n",
    "\n",
    "sol = solution()\n",
    "sol.Is_subsequence(\"abc\", t = \"ahbgdc\")\n",
    "\n",
    "    "
   ]
  },
  {
   "cell_type": "code",
   "execution_count": null,
   "id": "34dbb321-4ee7-45bd-9df9-c889c2d0c24b",
   "metadata": {},
   "outputs": [],
   "source": []
  }
 ],
 "metadata": {
  "kernelspec": {
   "display_name": "Python 3 (ipykernel)",
   "language": "python",
   "name": "python3"
  },
  "language_info": {
   "codemirror_mode": {
    "name": "ipython",
    "version": 3
   },
   "file_extension": ".py",
   "mimetype": "text/x-python",
   "name": "python",
   "nbconvert_exporter": "python",
   "pygments_lexer": "ipython3",
   "version": "3.11.7"
  }
 },
 "nbformat": 4,
 "nbformat_minor": 5
}
