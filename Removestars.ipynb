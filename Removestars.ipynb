{
 "cells": [
  {
   "cell_type": "code",
   "execution_count": null,
   "id": "e99d50c4-b078-4c72-977b-20102209e9e1",
   "metadata": {},
   "outputs": [],
   "source": [
    "class solution:\n",
    "    def Removestars(self,s:str)--> str:\n",
    "        stack = []\n",
    "        for i in s:\n",
    "            if i == '*':\n",
    "                stack.pop()\n",
    "            else:\n",
    "                stack.append(i)\n",
    "        return"
   ]
  }
 ],
 "metadata": {
  "kernelspec": {
   "display_name": "Python 3 (ipykernel)",
   "language": "python",
   "name": "python3"
  },
  "language_info": {
   "codemirror_mode": {
    "name": "ipython",
    "version": 3
   },
   "file_extension": ".py",
   "mimetype": "text/x-python",
   "name": "python",
   "nbconvert_exporter": "python",
   "pygments_lexer": "ipython3",
   "version": "3.11.7"
  }
 },
 "nbformat": 4,
 "nbformat_minor": 5
}
